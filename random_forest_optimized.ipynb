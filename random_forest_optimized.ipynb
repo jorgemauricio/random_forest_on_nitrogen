{
 "cells": [
  {
   "cell_type": "code",
   "execution_count": 18,
   "metadata": {},
   "outputs": [],
   "source": [
    "# librerías\n",
    "from sklearn.ensemble import RandomForestRegressor\n",
    "\n",
    "# The error metric, In this cas, we will use c-stat (aka ROC/AUC)\n",
    "from sklearn.metrics import roc_auc_score\n",
    "\n",
    "# an efficient data structure\n",
    "import pandas as pd\n",
    "\n",
    "#improt the data\n",
    "X = pd.read_csv(\"data/muestreo_con_indices.csv\")\n",
    "y = X.pop(\"N_TOTAL\")"
   ]
  },
  {
   "cell_type": "code",
   "execution_count": 19,
   "metadata": {},
   "outputs": [
    {
     "data": {
      "text/html": [
       "<div>\n",
       "<style scoped>\n",
       "    .dataframe tbody tr th:only-of-type {\n",
       "        vertical-align: middle;\n",
       "    }\n",
       "\n",
       "    .dataframe tbody tr th {\n",
       "        vertical-align: top;\n",
       "    }\n",
       "\n",
       "    .dataframe thead th {\n",
       "        text-align: right;\n",
       "    }\n",
       "</style>\n",
       "<table border=\"1\" class=\"dataframe\">\n",
       "  <thead>\n",
       "    <tr style=\"text-align: right;\">\n",
       "      <th></th>\n",
       "      <th>x</th>\n",
       "      <th>y</th>\n",
       "      <th>MCARI_OSAVI</th>\n",
       "      <th>CI_green</th>\n",
       "      <th>NDRE</th>\n",
       "      <th>NDVI</th>\n",
       "      <th>MCARI_OSAVI_RE</th>\n",
       "      <th>MTCI</th>\n",
       "      <th>TCARI_OSAVI</th>\n",
       "      <th>CCCI_simpl</th>\n",
       "      <th>GNDVI</th>\n",
       "      <th>CCCI</th>\n",
       "      <th>RVI</th>\n",
       "      <th>CIred_edge</th>\n",
       "      <th>TCARI_OSAVI_RE</th>\n",
       "    </tr>\n",
       "  </thead>\n",
       "  <tbody>\n",
       "    <tr>\n",
       "      <th>count</th>\n",
       "      <td>103.000000</td>\n",
       "      <td>1.030000e+02</td>\n",
       "      <td>103.000000</td>\n",
       "      <td>103.000000</td>\n",
       "      <td>103.000000</td>\n",
       "      <td>103.000000</td>\n",
       "      <td>103.000000</td>\n",
       "      <td>103.000000</td>\n",
       "      <td>103.000000</td>\n",
       "      <td>103.000000</td>\n",
       "      <td>103.000000</td>\n",
       "      <td>103.000000</td>\n",
       "      <td>103.000000</td>\n",
       "      <td>103.000000</td>\n",
       "      <td>103.000000</td>\n",
       "    </tr>\n",
       "    <tr>\n",
       "      <th>mean</th>\n",
       "      <td>673202.029126</td>\n",
       "      <td>2.834844e+06</td>\n",
       "      <td>0.082995</td>\n",
       "      <td>5.695013</td>\n",
       "      <td>0.232593</td>\n",
       "      <td>0.708405</td>\n",
       "      <td>0.388072</td>\n",
       "      <td>0.874585</td>\n",
       "      <td>1.163843</td>\n",
       "      <td>0.673851</td>\n",
       "      <td>0.685243</td>\n",
       "      <td>0.277030</td>\n",
       "      <td>8.416358</td>\n",
       "      <td>0.630740</td>\n",
       "      <td>3.319436</td>\n",
       "    </tr>\n",
       "    <tr>\n",
       "      <th>std</th>\n",
       "      <td>180.815932</td>\n",
       "      <td>1.675070e+02</td>\n",
       "      <td>0.098731</td>\n",
       "      <td>3.144237</td>\n",
       "      <td>0.074338</td>\n",
       "      <td>0.209601</td>\n",
       "      <td>0.230958</td>\n",
       "      <td>0.231662</td>\n",
       "      <td>0.611857</td>\n",
       "      <td>0.204908</td>\n",
       "      <td>0.153577</td>\n",
       "      <td>0.127663</td>\n",
       "      <td>4.073050</td>\n",
       "      <td>0.242482</td>\n",
       "      <td>2.073623</td>\n",
       "    </tr>\n",
       "    <tr>\n",
       "      <th>min</th>\n",
       "      <td>672775.000000</td>\n",
       "      <td>2.834584e+06</td>\n",
       "      <td>0.000000</td>\n",
       "      <td>0.946594</td>\n",
       "      <td>0.072872</td>\n",
       "      <td>0.190868</td>\n",
       "      <td>0.114325</td>\n",
       "      <td>0.497781</td>\n",
       "      <td>0.457698</td>\n",
       "      <td>0.139618</td>\n",
       "      <td>0.321137</td>\n",
       "      <td>0.023695</td>\n",
       "      <td>1.472472</td>\n",
       "      <td>0.157310</td>\n",
       "      <td>1.443111</td>\n",
       "    </tr>\n",
       "    <tr>\n",
       "      <th>25%</th>\n",
       "      <td>673038.000000</td>\n",
       "      <td>2.834685e+06</td>\n",
       "      <td>0.005971</td>\n",
       "      <td>3.683149</td>\n",
       "      <td>0.202339</td>\n",
       "      <td>0.717319</td>\n",
       "      <td>0.228642</td>\n",
       "      <td>0.690526</td>\n",
       "      <td>0.709265</td>\n",
       "      <td>0.613101</td>\n",
       "      <td>0.647798</td>\n",
       "      <td>0.264213</td>\n",
       "      <td>6.138221</td>\n",
       "      <td>0.508518</td>\n",
       "      <td>1.805233</td>\n",
       "    </tr>\n",
       "    <tr>\n",
       "      <th>50%</th>\n",
       "      <td>673220.000000</td>\n",
       "      <td>2.834850e+06</td>\n",
       "      <td>0.044680</td>\n",
       "      <td>5.228054</td>\n",
       "      <td>0.241367</td>\n",
       "      <td>0.787264</td>\n",
       "      <td>0.262341</td>\n",
       "      <td>0.812516</td>\n",
       "      <td>0.920452</td>\n",
       "      <td>0.730255</td>\n",
       "      <td>0.722919</td>\n",
       "      <td>0.293408</td>\n",
       "      <td>8.407416</td>\n",
       "      <td>0.639023</td>\n",
       "      <td>2.234872</td>\n",
       "    </tr>\n",
       "    <tr>\n",
       "      <th>75%</th>\n",
       "      <td>673289.000000</td>\n",
       "      <td>2.834940e+06</td>\n",
       "      <td>0.110703</td>\n",
       "      <td>7.360464</td>\n",
       "      <td>0.286638</td>\n",
       "      <td>0.836202</td>\n",
       "      <td>0.502969</td>\n",
       "      <td>1.005792</td>\n",
       "      <td>1.409804</td>\n",
       "      <td>0.822584</td>\n",
       "      <td>0.786770</td>\n",
       "      <td>0.364038</td>\n",
       "      <td>11.251419</td>\n",
       "      <td>0.805496</td>\n",
       "      <td>4.301772</td>\n",
       "    </tr>\n",
       "    <tr>\n",
       "      <th>max</th>\n",
       "      <td>673564.000000</td>\n",
       "      <td>2.835169e+06</td>\n",
       "      <td>0.364412</td>\n",
       "      <td>14.036117</td>\n",
       "      <td>0.356577</td>\n",
       "      <td>0.899692</td>\n",
       "      <td>1.018083</td>\n",
       "      <td>1.664167</td>\n",
       "      <td>3.059144</td>\n",
       "      <td>0.926175</td>\n",
       "      <td>0.875112</td>\n",
       "      <td>0.523345</td>\n",
       "      <td>18.952937</td>\n",
       "      <td>1.109886</td>\n",
       "      <td>9.209865</td>\n",
       "    </tr>\n",
       "  </tbody>\n",
       "</table>\n",
       "</div>"
      ],
      "text/plain": [
       "                   x             y  MCARI_OSAVI    CI_green        NDRE  \\\n",
       "count     103.000000  1.030000e+02   103.000000  103.000000  103.000000   \n",
       "mean   673202.029126  2.834844e+06     0.082995    5.695013    0.232593   \n",
       "std       180.815932  1.675070e+02     0.098731    3.144237    0.074338   \n",
       "min    672775.000000  2.834584e+06     0.000000    0.946594    0.072872   \n",
       "25%    673038.000000  2.834685e+06     0.005971    3.683149    0.202339   \n",
       "50%    673220.000000  2.834850e+06     0.044680    5.228054    0.241367   \n",
       "75%    673289.000000  2.834940e+06     0.110703    7.360464    0.286638   \n",
       "max    673564.000000  2.835169e+06     0.364412   14.036117    0.356577   \n",
       "\n",
       "             NDVI  MCARI_OSAVI_RE        MTCI  TCARI_OSAVI  CCCI_simpl  \\\n",
       "count  103.000000      103.000000  103.000000   103.000000  103.000000   \n",
       "mean     0.708405        0.388072    0.874585     1.163843    0.673851   \n",
       "std      0.209601        0.230958    0.231662     0.611857    0.204908   \n",
       "min      0.190868        0.114325    0.497781     0.457698    0.139618   \n",
       "25%      0.717319        0.228642    0.690526     0.709265    0.613101   \n",
       "50%      0.787264        0.262341    0.812516     0.920452    0.730255   \n",
       "75%      0.836202        0.502969    1.005792     1.409804    0.822584   \n",
       "max      0.899692        1.018083    1.664167     3.059144    0.926175   \n",
       "\n",
       "            GNDVI        CCCI         RVI  CIred_edge  TCARI_OSAVI_RE  \n",
       "count  103.000000  103.000000  103.000000  103.000000      103.000000  \n",
       "mean     0.685243    0.277030    8.416358    0.630740        3.319436  \n",
       "std      0.153577    0.127663    4.073050    0.242482        2.073623  \n",
       "min      0.321137    0.023695    1.472472    0.157310        1.443111  \n",
       "25%      0.647798    0.264213    6.138221    0.508518        1.805233  \n",
       "50%      0.722919    0.293408    8.407416    0.639023        2.234872  \n",
       "75%      0.786770    0.364038   11.251419    0.805496        4.301772  \n",
       "max      0.875112    0.523345   18.952937    1.109886        9.209865  "
      ]
     },
     "execution_count": 19,
     "metadata": {},
     "output_type": "execute_result"
    }
   ],
   "source": [
    "X.describe()"
   ]
  },
  {
   "cell_type": "code",
   "execution_count": 20,
   "metadata": {},
   "outputs": [],
   "source": [
    "# if the dataset have NaN values\n",
    "# X[\"Column\"].fillna(X[\"Column\"].mean(), inplace=True)\n",
    "\n",
    "# confirm the code is correct\n",
    "# X.describe()"
   ]
  },
  {
   "cell_type": "code",
   "execution_count": 21,
   "metadata": {},
   "outputs": [
    {
     "data": {
      "text/html": [
       "<div>\n",
       "<style scoped>\n",
       "    .dataframe tbody tr th:only-of-type {\n",
       "        vertical-align: middle;\n",
       "    }\n",
       "\n",
       "    .dataframe tbody tr th {\n",
       "        vertical-align: top;\n",
       "    }\n",
       "\n",
       "    .dataframe thead th {\n",
       "        text-align: right;\n",
       "    }\n",
       "</style>\n",
       "<table border=\"1\" class=\"dataframe\">\n",
       "  <thead>\n",
       "    <tr style=\"text-align: right;\">\n",
       "      <th></th>\n",
       "      <th>x</th>\n",
       "      <th>y</th>\n",
       "      <th>MCARI_OSAVI</th>\n",
       "      <th>CI_green</th>\n",
       "      <th>NDRE</th>\n",
       "      <th>NDVI</th>\n",
       "      <th>MCARI_OSAVI_RE</th>\n",
       "      <th>MTCI</th>\n",
       "      <th>TCARI_OSAVI</th>\n",
       "      <th>CCCI_simpl</th>\n",
       "      <th>GNDVI</th>\n",
       "      <th>CCCI</th>\n",
       "      <th>RVI</th>\n",
       "      <th>CIred_edge</th>\n",
       "      <th>TCARI_OSAVI_RE</th>\n",
       "    </tr>\n",
       "  </thead>\n",
       "  <tbody>\n",
       "    <tr>\n",
       "      <th>0</th>\n",
       "      <td>672991</td>\n",
       "      <td>2834763</td>\n",
       "      <td>0.283920</td>\n",
       "      <td>1.015761</td>\n",
       "      <td>0.074783</td>\n",
       "      <td>0.206467</td>\n",
       "      <td>0.155900</td>\n",
       "      <td>0.691066</td>\n",
       "      <td>1.357306</td>\n",
       "      <td>0.155488</td>\n",
       "      <td>0.336669</td>\n",
       "      <td>0.362977</td>\n",
       "      <td>1.520898</td>\n",
       "      <td>0.161725</td>\n",
       "      <td>2.154459</td>\n",
       "    </tr>\n",
       "    <tr>\n",
       "      <th>1</th>\n",
       "      <td>673009</td>\n",
       "      <td>2834792</td>\n",
       "      <td>0.274314</td>\n",
       "      <td>0.985348</td>\n",
       "      <td>0.077153</td>\n",
       "      <td>0.203141</td>\n",
       "      <td>0.188865</td>\n",
       "      <td>0.753115</td>\n",
       "      <td>1.316350</td>\n",
       "      <td>0.175170</td>\n",
       "      <td>0.329649</td>\n",
       "      <td>0.382892</td>\n",
       "      <td>1.511626</td>\n",
       "      <td>0.167301</td>\n",
       "      <td>2.188258</td>\n",
       "    </tr>\n",
       "    <tr>\n",
       "      <th>2</th>\n",
       "      <td>673016</td>\n",
       "      <td>2834822</td>\n",
       "      <td>0.294672</td>\n",
       "      <td>1.093054</td>\n",
       "      <td>0.079282</td>\n",
       "      <td>0.228269</td>\n",
       "      <td>0.164282</td>\n",
       "      <td>0.662644</td>\n",
       "      <td>1.376631</td>\n",
       "      <td>0.192850</td>\n",
       "      <td>0.353286</td>\n",
       "      <td>0.348945</td>\n",
       "      <td>1.592500</td>\n",
       "      <td>0.172282</td>\n",
       "      <td>2.167296</td>\n",
       "    </tr>\n",
       "    <tr>\n",
       "      <th>3</th>\n",
       "      <td>673030</td>\n",
       "      <td>2834850</td>\n",
       "      <td>0.296775</td>\n",
       "      <td>1.191791</td>\n",
       "      <td>0.094331</td>\n",
       "      <td>0.268019</td>\n",
       "      <td>0.236521</td>\n",
       "      <td>0.704585</td>\n",
       "      <td>1.336456</td>\n",
       "      <td>0.317840</td>\n",
       "      <td>0.372851</td>\n",
       "      <td>0.355268</td>\n",
       "      <td>1.736582</td>\n",
       "      <td>0.208449</td>\n",
       "      <td>2.237800</td>\n",
       "    </tr>\n",
       "    <tr>\n",
       "      <th>4</th>\n",
       "      <td>673053</td>\n",
       "      <td>2834876</td>\n",
       "      <td>0.239374</td>\n",
       "      <td>1.052623</td>\n",
       "      <td>0.099655</td>\n",
       "      <td>0.230299</td>\n",
       "      <td>0.288989</td>\n",
       "      <td>0.957019</td>\n",
       "      <td>1.114491</td>\n",
       "      <td>0.362056</td>\n",
       "      <td>0.344411</td>\n",
       "      <td>0.435488</td>\n",
       "      <td>1.600575</td>\n",
       "      <td>0.221476</td>\n",
       "      <td>2.164132</td>\n",
       "    </tr>\n",
       "  </tbody>\n",
       "</table>\n",
       "</div>"
      ],
      "text/plain": [
       "        x        y  MCARI_OSAVI  CI_green      NDRE      NDVI  MCARI_OSAVI_RE  \\\n",
       "0  672991  2834763     0.283920  1.015761  0.074783  0.206467        0.155900   \n",
       "1  673009  2834792     0.274314  0.985348  0.077153  0.203141        0.188865   \n",
       "2  673016  2834822     0.294672  1.093054  0.079282  0.228269        0.164282   \n",
       "3  673030  2834850     0.296775  1.191791  0.094331  0.268019        0.236521   \n",
       "4  673053  2834876     0.239374  1.052623  0.099655  0.230299        0.288989   \n",
       "\n",
       "       MTCI  TCARI_OSAVI  CCCI_simpl     GNDVI      CCCI       RVI  \\\n",
       "0  0.691066     1.357306    0.155488  0.336669  0.362977  1.520898   \n",
       "1  0.753115     1.316350    0.175170  0.329649  0.382892  1.511626   \n",
       "2  0.662644     1.376631    0.192850  0.353286  0.348945  1.592500   \n",
       "3  0.704585     1.336456    0.317840  0.372851  0.355268  1.736582   \n",
       "4  0.957019     1.114491    0.362056  0.344411  0.435488  1.600575   \n",
       "\n",
       "   CIred_edge  TCARI_OSAVI_RE  \n",
       "0    0.161725        2.154459  \n",
       "1    0.167301        2.188258  \n",
       "2    0.172282        2.167296  \n",
       "3    0.208449        2.237800  \n",
       "4    0.221476        2.164132  "
      ]
     },
     "execution_count": 21,
     "metadata": {},
     "output_type": "execute_result"
    }
   ],
   "source": [
    "# get just the numeric variables by selecting only the variables that are not \"object\" datatypes\n",
    "numeric_variables = list(X.dtypes[X.dtypes != \"object\"].index)\n",
    "X[numeric_variables].head()"
   ]
  },
  {
   "cell_type": "markdown",
   "metadata": {},
   "source": [
    "Looks like the location of the sample could be a wortless variable, but we are goint to leave for a reason. It could be a reference of the place"
   ]
  },
  {
   "cell_type": "code",
   "execution_count": 22,
   "metadata": {},
   "outputs": [
    {
     "data": {
      "text/plain": [
       "RandomForestRegressor(bootstrap=True, criterion='mse', max_depth=None,\n",
       "           max_features='auto', max_leaf_nodes=None,\n",
       "           min_impurity_decrease=0.0, min_impurity_split=None,\n",
       "           min_samples_leaf=1, min_samples_split=2,\n",
       "           min_weight_fraction_leaf=0.0, n_estimators=100, n_jobs=1,\n",
       "           oob_score=True, random_state=0, verbose=0, warm_start=False)"
      ]
     },
     "execution_count": 22,
     "metadata": {},
     "output_type": "execute_result"
    }
   ],
   "source": [
    "# letś build our first model. I always have oob_score=True. It is a good idea to increase n_estimators\n",
    "#  to a number higher than the defaul. in this case the oob_predictions will be based on a forest of 33 trees.\n",
    "# I set random_state=42 so that you all could replicate the model exactly\n",
    "model = RandomForestRegressor(n_estimators=100, oob_score=True, random_state=0)\n",
    "\n",
    "# I only use numeric_variables because I have yet to dummy out the categorical variables\n",
    "model.fit(X[numeric_variables], y)"
   ]
  },
  {
   "cell_type": "code",
   "execution_count": 23,
   "metadata": {},
   "outputs": [
    {
     "data": {
      "text/plain": [
       "0.6449411092862196"
      ]
     },
     "execution_count": 23,
     "metadata": {},
     "output_type": "execute_result"
    }
   ],
   "source": [
    "# for regression, the oob_score attribute gives the R^2 based on the obb predictions. We want to use c-stat,\n",
    "# for awareness. By the way, attibutes in skelearn that have a trailing underscore are only available after\n",
    "# the model has been run\n",
    "model.oob_score_"
   ]
  },
  {
   "cell_type": "code",
   "execution_count": 24,
   "metadata": {},
   "outputs": [
    {
     "data": {
      "text/plain": [
       "0.9535460810016358"
      ]
     },
     "execution_count": 24,
     "metadata": {},
     "output_type": "execute_result"
    }
   ],
   "source": [
    "# model score\n",
    "model.score(X[numeric_variables],y)\n",
    "# if the y is a binary dtype\n",
    "# y_oob = model.oob_prediction_\n",
    "# print(c-stat: \", roc_auc_score(y, y_oob))"
   ]
  },
  {
   "cell_type": "code",
   "execution_count": 25,
   "metadata": {},
   "outputs": [],
   "source": [
    "def describe_categorical(X):\n",
    "    \"\"\"\n",
    "    Just like .describe(), but returns the results for \n",
    "    categorical variables only.\n",
    "    \"\"\"\n",
    "    from IPython.display import display, HTML\n",
    "    display(HTML(X[X.columns[X.dtypes ==\"object\"]].describe().to_html()))"
   ]
  },
  {
   "cell_type": "code",
   "execution_count": 26,
   "metadata": {},
   "outputs": [
    {
     "data": {
      "text/html": [
       "<table border=\"1\" class=\"dataframe\">\n",
       "  <thead>\n",
       "    <tr style=\"text-align: right;\">\n",
       "      <th></th>\n",
       "      <th>FECHA</th>\n",
       "    </tr>\n",
       "  </thead>\n",
       "  <tbody>\n",
       "    <tr>\n",
       "      <th>count</th>\n",
       "      <td>103</td>\n",
       "    </tr>\n",
       "    <tr>\n",
       "      <th>unique</th>\n",
       "      <td>6</td>\n",
       "    </tr>\n",
       "    <tr>\n",
       "      <th>top</th>\n",
       "      <td>10/05/17</td>\n",
       "    </tr>\n",
       "    <tr>\n",
       "      <th>freq</th>\n",
       "      <td>19</td>\n",
       "    </tr>\n",
       "  </tbody>\n",
       "</table>"
      ],
      "text/plain": [
       "<IPython.core.display.HTML object>"
      ]
     },
     "metadata": {},
     "output_type": "display_data"
    }
   ],
   "source": [
    "describe_categorical(X)"
   ]
  },
  {
   "cell_type": "code",
   "execution_count": 27,
   "metadata": {},
   "outputs": [],
   "source": [
    "# drop the variables x and y\n",
    "X.drop([\"x\", \"y\"], axis=1, inplace=True)"
   ]
  },
  {
   "cell_type": "code",
   "execution_count": 28,
   "metadata": {},
   "outputs": [],
   "source": [
    "# change a column variable to be only the first letter or None\n",
    "# def clean_variable(x):\n",
    "#    try:\n",
    "#        return x[0]\n",
    "#    except TypeError:\n",
    "#        return \"None\"\n",
    "    \n",
    "# X[\"Column\"] = X.Column.apply(clean_variable)"
   ]
  },
  {
   "cell_type": "code",
   "execution_count": 29,
   "metadata": {},
   "outputs": [],
   "source": [
    "categorical_variables = [\"FECHA\"]\n",
    "\n",
    "for variable in categorical_variables:\n",
    "    # fill missin data with the word \"Missing\"\n",
    "    X[variable].fillna(\"Missing\", inplace=True)\n",
    "    # create array of dummies\n",
    "    dummies = pd.get_dummies(X[variable], prefix=variable)\n",
    "    # update X to include dummies and drop the main variable\n",
    "    X = pd.concat([X, dummies], axis=1)\n",
    "    X.drop([variable], axis=1, inplace=True)"
   ]
  },
  {
   "cell_type": "code",
   "execution_count": 30,
   "metadata": {},
   "outputs": [
    {
     "data": {
      "text/html": [
       "<table border=\"1\" class=\"dataframe\">\n",
       "  <thead>\n",
       "    <tr style=\"text-align: right;\">\n",
       "      <th></th>\n",
       "      <th>MCARI_OSAVI</th>\n",
       "      <th>CI_green</th>\n",
       "      <th>NDRE</th>\n",
       "      <th>NDVI</th>\n",
       "      <th>MCARI_OSAVI_RE</th>\n",
       "      <th>MTCI</th>\n",
       "      <th>TCARI_OSAVI</th>\n",
       "      <th>CCCI_simpl</th>\n",
       "      <th>GNDVI</th>\n",
       "      <th>CCCI</th>\n",
       "      <th>RVI</th>\n",
       "      <th>CIred_edge</th>\n",
       "      <th>TCARI_OSAVI_RE</th>\n",
       "      <th>FECHA_09/11/17</th>\n",
       "      <th>FECHA_10/05/17</th>\n",
       "      <th>FECHA_10/10/17</th>\n",
       "      <th>FECHA_10/20/17</th>\n",
       "      <th>FECHA_10/30/17</th>\n",
       "      <th>FECHA_11/22/17</th>\n",
       "    </tr>\n",
       "  </thead>\n",
       "  <tbody>\n",
       "    <tr>\n",
       "      <th>0</th>\n",
       "      <td>0.283920</td>\n",
       "      <td>1.015761</td>\n",
       "      <td>0.074783</td>\n",
       "      <td>0.206467</td>\n",
       "      <td>0.155900</td>\n",
       "      <td>0.691066</td>\n",
       "      <td>1.357306</td>\n",
       "      <td>0.155488</td>\n",
       "      <td>0.336669</td>\n",
       "      <td>0.362977</td>\n",
       "      <td>1.520898</td>\n",
       "      <td>0.161725</td>\n",
       "      <td>2.154459</td>\n",
       "      <td>1</td>\n",
       "      <td>0</td>\n",
       "      <td>0</td>\n",
       "      <td>0</td>\n",
       "      <td>0</td>\n",
       "      <td>0</td>\n",
       "    </tr>\n",
       "    <tr>\n",
       "      <th>1</th>\n",
       "      <td>0.274314</td>\n",
       "      <td>0.985348</td>\n",
       "      <td>0.077153</td>\n",
       "      <td>0.203141</td>\n",
       "      <td>0.188865</td>\n",
       "      <td>0.753115</td>\n",
       "      <td>1.316350</td>\n",
       "      <td>0.175170</td>\n",
       "      <td>0.329649</td>\n",
       "      <td>0.382892</td>\n",
       "      <td>1.511626</td>\n",
       "      <td>0.167301</td>\n",
       "      <td>2.188258</td>\n",
       "      <td>1</td>\n",
       "      <td>0</td>\n",
       "      <td>0</td>\n",
       "      <td>0</td>\n",
       "      <td>0</td>\n",
       "      <td>0</td>\n",
       "    </tr>\n",
       "    <tr>\n",
       "      <th>2</th>\n",
       "      <td>0.294672</td>\n",
       "      <td>1.093054</td>\n",
       "      <td>0.079282</td>\n",
       "      <td>0.228269</td>\n",
       "      <td>0.164282</td>\n",
       "      <td>0.662644</td>\n",
       "      <td>1.376631</td>\n",
       "      <td>0.192850</td>\n",
       "      <td>0.353286</td>\n",
       "      <td>0.348945</td>\n",
       "      <td>1.592500</td>\n",
       "      <td>0.172282</td>\n",
       "      <td>2.167296</td>\n",
       "      <td>1</td>\n",
       "      <td>0</td>\n",
       "      <td>0</td>\n",
       "      <td>0</td>\n",
       "      <td>0</td>\n",
       "      <td>0</td>\n",
       "    </tr>\n",
       "    <tr>\n",
       "      <th>3</th>\n",
       "      <td>0.296775</td>\n",
       "      <td>1.191791</td>\n",
       "      <td>0.094331</td>\n",
       "      <td>0.268019</td>\n",
       "      <td>0.236521</td>\n",
       "      <td>0.704585</td>\n",
       "      <td>1.336456</td>\n",
       "      <td>0.317840</td>\n",
       "      <td>0.372851</td>\n",
       "      <td>0.355268</td>\n",
       "      <td>1.736582</td>\n",
       "      <td>0.208449</td>\n",
       "      <td>2.237800</td>\n",
       "      <td>1</td>\n",
       "      <td>0</td>\n",
       "      <td>0</td>\n",
       "      <td>0</td>\n",
       "      <td>0</td>\n",
       "      <td>0</td>\n",
       "    </tr>\n",
       "    <tr>\n",
       "      <th>4</th>\n",
       "      <td>0.239374</td>\n",
       "      <td>1.052623</td>\n",
       "      <td>0.099655</td>\n",
       "      <td>0.230299</td>\n",
       "      <td>0.288989</td>\n",
       "      <td>0.957019</td>\n",
       "      <td>1.114491</td>\n",
       "      <td>0.362056</td>\n",
       "      <td>0.344411</td>\n",
       "      <td>0.435488</td>\n",
       "      <td>1.600575</td>\n",
       "      <td>0.221476</td>\n",
       "      <td>2.164132</td>\n",
       "      <td>1</td>\n",
       "      <td>0</td>\n",
       "      <td>0</td>\n",
       "      <td>0</td>\n",
       "      <td>0</td>\n",
       "      <td>0</td>\n",
       "    </tr>\n",
       "    <tr>\n",
       "      <th>...</th>\n",
       "      <td>...</td>\n",
       "      <td>...</td>\n",
       "      <td>...</td>\n",
       "      <td>...</td>\n",
       "      <td>...</td>\n",
       "      <td>...</td>\n",
       "      <td>...</td>\n",
       "      <td>...</td>\n",
       "      <td>...</td>\n",
       "      <td>...</td>\n",
       "      <td>...</td>\n",
       "      <td>...</td>\n",
       "      <td>...</td>\n",
       "      <td>...</td>\n",
       "      <td>...</td>\n",
       "      <td>...</td>\n",
       "      <td>...</td>\n",
       "      <td>...</td>\n",
       "      <td>...</td>\n",
       "    </tr>\n",
       "    <tr>\n",
       "      <th>98</th>\n",
       "      <td>0.090330</td>\n",
       "      <td>3.540963</td>\n",
       "      <td>0.200294</td>\n",
       "      <td>0.738790</td>\n",
       "      <td>0.257365</td>\n",
       "      <td>0.646793</td>\n",
       "      <td>0.865050</td>\n",
       "      <td>0.734115</td>\n",
       "      <td>0.639019</td>\n",
       "      <td>0.271103</td>\n",
       "      <td>6.658631</td>\n",
       "      <td>0.500964</td>\n",
       "      <td>1.981615</td>\n",
       "      <td>0</td>\n",
       "      <td>0</td>\n",
       "      <td>0</td>\n",
       "      <td>0</td>\n",
       "      <td>0</td>\n",
       "      <td>1</td>\n",
       "    </tr>\n",
       "    <tr>\n",
       "      <th>99</th>\n",
       "      <td>0.110559</td>\n",
       "      <td>3.076807</td>\n",
       "      <td>0.172454</td>\n",
       "      <td>0.705017</td>\n",
       "      <td>0.213970</td>\n",
       "      <td>0.552283</td>\n",
       "      <td>0.861366</td>\n",
       "      <td>0.601739</td>\n",
       "      <td>0.606042</td>\n",
       "      <td>0.244625</td>\n",
       "      <td>5.781926</td>\n",
       "      <td>0.416837</td>\n",
       "      <td>1.783191</td>\n",
       "      <td>0</td>\n",
       "      <td>0</td>\n",
       "      <td>0</td>\n",
       "      <td>0</td>\n",
       "      <td>0</td>\n",
       "      <td>1</td>\n",
       "    </tr>\n",
       "    <tr>\n",
       "      <th>100</th>\n",
       "      <td>0.070913</td>\n",
       "      <td>3.647011</td>\n",
       "      <td>0.203406</td>\n",
       "      <td>0.738800</td>\n",
       "      <td>0.203435</td>\n",
       "      <td>0.660791</td>\n",
       "      <td>0.690467</td>\n",
       "      <td>0.748911</td>\n",
       "      <td>0.645765</td>\n",
       "      <td>0.275360</td>\n",
       "      <td>6.662547</td>\n",
       "      <td>0.510708</td>\n",
       "      <td>1.567196</td>\n",
       "      <td>0</td>\n",
       "      <td>0</td>\n",
       "      <td>0</td>\n",
       "      <td>0</td>\n",
       "      <td>0</td>\n",
       "      <td>1</td>\n",
       "    </tr>\n",
       "    <tr>\n",
       "      <th>101</th>\n",
       "      <td>0.052702</td>\n",
       "      <td>4.127506</td>\n",
       "      <td>0.214603</td>\n",
       "      <td>0.761693</td>\n",
       "      <td>0.227440</td>\n",
       "      <td>0.691067</td>\n",
       "      <td>0.731164</td>\n",
       "      <td>0.802151</td>\n",
       "      <td>0.673584</td>\n",
       "      <td>0.281747</td>\n",
       "      <td>7.394609</td>\n",
       "      <td>0.546491</td>\n",
       "      <td>1.767288</td>\n",
       "      <td>0</td>\n",
       "      <td>0</td>\n",
       "      <td>0</td>\n",
       "      <td>0</td>\n",
       "      <td>0</td>\n",
       "      <td>1</td>\n",
       "    </tr>\n",
       "    <tr>\n",
       "      <th>102</th>\n",
       "      <td>0.041138</td>\n",
       "      <td>4.182885</td>\n",
       "      <td>0.216245</td>\n",
       "      <td>0.772015</td>\n",
       "      <td>0.226234</td>\n",
       "      <td>0.689566</td>\n",
       "      <td>0.714410</td>\n",
       "      <td>0.809959</td>\n",
       "      <td>0.676505</td>\n",
       "      <td>0.280121</td>\n",
       "      <td>7.776750</td>\n",
       "      <td>0.551835</td>\n",
       "      <td>1.757389</td>\n",
       "      <td>0</td>\n",
       "      <td>0</td>\n",
       "      <td>0</td>\n",
       "      <td>0</td>\n",
       "      <td>0</td>\n",
       "      <td>1</td>\n",
       "    </tr>\n",
       "  </tbody>\n",
       "</table>"
      ],
      "text/plain": [
       "<IPython.core.display.HTML object>"
      ]
     },
     "metadata": {},
     "output_type": "display_data"
    }
   ],
   "source": [
    "# look at all the columns in the dataset\n",
    "def printall(X, max_rows=10):\n",
    "    from IPython.display import display, HTML\n",
    "    display(HTML(X.to_html(max_rows=max_rows)))\n",
    "    \n",
    "printall(X)"
   ]
  },
  {
   "cell_type": "code",
   "execution_count": 32,
   "metadata": {},
   "outputs": [
    {
     "name": "stdout",
     "output_type": "stream",
     "text": [
      "0.9441823430842348\n"
     ]
    }
   ],
   "source": [
    "model = RandomForestRegressor(100, oob_score=True, n_jobs=-1, random_state=0)\n",
    "model.fit(X,y)\n",
    "\n",
    "print(model.score(X,y))\n",
    "\n",
    "# binary values in y\n",
    "#print(\"c-stat: \", roc_auc_score(y, model.oob_prediction_))"
   ]
  },
  {
   "cell_type": "markdown",
   "metadata": {},
   "source": [
    "# Variable importance measures"
   ]
  },
  {
   "cell_type": "code",
   "execution_count": 33,
   "metadata": {},
   "outputs": [
    {
     "data": {
      "text/plain": [
       "array([4.75613189e-01, 1.95314228e-02, 1.58318200e-02, 5.75389974e-02,\n",
       "       4.07553109e-02, 2.29187141e-02, 4.90855517e-02, 3.28154748e-02,\n",
       "       2.50993878e-02, 2.21822765e-02, 5.56865425e-02, 1.15150421e-02,\n",
       "       1.40508061e-01, 1.09883239e-02, 8.86695302e-05, 3.77775391e-03,\n",
       "       2.60798499e-03, 9.54092301e-03, 3.91455457e-03])"
      ]
     },
     "execution_count": 33,
     "metadata": {},
     "output_type": "execute_result"
    }
   ],
   "source": [
    "model.feature_importances_"
   ]
  },
  {
   "cell_type": "code",
   "execution_count": 34,
   "metadata": {},
   "outputs": [
    {
     "data": {
      "text/plain": [
       "<matplotlib.axes._subplots.AxesSubplot at 0x7f6598e216a0>"
      ]
     },
     "execution_count": 34,
     "metadata": {},
     "output_type": "execute_result"
    },
    {
     "data": {
      "image/png": "[encoded data removed]",
      "text/plain": [
       "<matplotlib.figure.Figure at 0x7f65990de908>"
      ]
     },
     "metadata": {},
     "output_type": "display_data"
    }
   ],
   "source": [
    "%matplotlib inline\n",
    "# simple version that shows all of the variables\n",
    "feature_importances = pd.DataFrame({\"importance\": model.feature_importances_}, index=X.columns)\n",
    "feature_importances.sort_values(by=[\"importance\"], inplace=True)\n",
    "feature_importances.plot(kind=\"barh\", figsize=(7,6))"
   ]
  },
  {
   "cell_type": "code",
   "execution_count": 35,
   "metadata": {},
   "outputs": [
    {
     "data": {
      "image/png": "[encoded data removed]",
      "text/plain": [
       "<matplotlib.figure.Figure at 0x7f65a0754c88>"
      ]
     },
     "metadata": {},
     "output_type": "display_data"
    }
   ],
   "source": [
    "def graph_feature_importances(model, feature_names, autoscale=True, headroom=0.05, width=10, summarized_columns=None):\n",
    "    \"\"\"\n",
    "    By Mike Bernico\n",
    "    \n",
    "    Graphs the feature importances of a random decision forest using a horizontal bar chart. \n",
    "    Probably works but untested on other sklearn.ensembles.\n",
    "    \n",
    "    Parameters\n",
    "    ----------\n",
    "    ensemble = Name of the ensemble whose features you would like graphed.\n",
    "    feature_names = A list of the names of those featurs, displayed on the Y axis.\n",
    "    autoscale = True (Automatically adjust the X axis size to the largest feature +.headroom) / False = scale from 0 to 1\n",
    "    headroom = used with autoscale, .05 default\n",
    "    width=figure width in inches\n",
    "    summarized_columns = a list of column prefixes to summarize on, for dummy variables (e.g. [\"day_\"] would summarize all day_ vars\n",
    "    \"\"\"\n",
    "    \n",
    "    if autoscale:\n",
    "        x_scale = model.feature_importances_.max()+ headroom\n",
    "    else:\n",
    "        x_scale = 1\n",
    "    \n",
    "    feature_dict=dict(zip(feature_names, model.feature_importances_))\n",
    "    \n",
    "    if summarized_columns: \n",
    "        #some dummy columns need to be summarized\n",
    "        for col_name in summarized_columns: \n",
    "            #sum all the features that contain col_name, store in temp sum_value\n",
    "            sum_value = sum(x for i, x in feature_dict.items() if col_name in i )  \n",
    "            \n",
    "            #now remove all keys that are part of col_name\n",
    "            keys_to_remove = [i for i in feature_dict.keys() if col_name in i ]\n",
    "            for i in keys_to_remove:\n",
    "                feature_dict.pop(i)\n",
    "            #lastly, read the summarized field\n",
    "            feature_dict[col_name] = sum_value\n",
    "        \n",
    "    results = pd.Series(feature_dict)\n",
    "    results.sort_values(inplace=True)\n",
    "    results.plot(kind=\"barh\", figsize=(width,len(results)/4), xlim=(0,x_scale))\n",
    "    \n",
    "graph_feature_importances(model, X.columns, summarized_columns=categorical_variables)"
   ]
  },
  {
   "cell_type": "markdown",
   "metadata": {},
   "source": [
    "Parameter tests\n",
    "Parameters to test\n",
    "\n",
    "### Parameters that will make your model better\n",
    "n_estimators: The number of trees in the forest. Choose as high of a number as your computer can handle.\n",
    "max_features: The number of features to consider when looking for the best split. Try [\"auto\", \"None\", \"sqrt\", \"log2\", 0.9, and 0.2]\n",
    "min_samples_leaf: The minimum number of samples in newly created leaves.Try [1, 2, 3]. If 3 is the best, try higher numbers such as 1 through 10.\n",
    "### Parameters that will make it easier to train your model\n",
    "n_jobs: Determines if multiple processors should be used to train and test the model. Always set this to -1 and %%timeit vs. if it is set to 1. It should be much faster (especially when many trees are trained)."
   ]
  },
  {
   "cell_type": "markdown",
   "metadata": {},
   "source": [
    "## n_jobs"
   ]
  },
  {
   "cell_type": "code",
   "execution_count": 36,
   "metadata": {},
   "outputs": [
    {
     "name": "stdout",
     "output_type": "stream",
     "text": [
      "1.23 s ± 65.5 ms per loop (mean ± std. dev. of 7 runs, 1 loop each)\n"
     ]
    }
   ],
   "source": [
    "%%timeit\n",
    "model = RandomForestRegressor(1000, oob_score=True, n_jobs=1, random_state=0)\n",
    "model.fit(X,y)"
   ]
  },
  {
   "cell_type": "code",
   "execution_count": 37,
   "metadata": {},
   "outputs": [
    {
     "name": "stdout",
     "output_type": "stream",
     "text": [
      "1.17 s ± 59.1 ms per loop (mean ± std. dev. of 7 runs, 1 loop each)\n"
     ]
    }
   ],
   "source": [
    "%%timeit\n",
    "model = RandomForestRegressor(1000, oob_score=True, n_jobs=-1, random_state=0)\n",
    "model.fit(X,y)"
   ]
  },
  {
   "cell_type": "markdown",
   "metadata": {},
   "source": [
    "# n_estimators"
   ]
  },
  {
   "cell_type": "code",
   "execution_count": 38,
   "metadata": {},
   "outputs": [
    {
     "name": "stdout",
     "output_type": "stream",
     "text": [
      "30 trees\n",
      "0.9399852927118274\n",
      "\n",
      "50 trees\n",
      "0.9443554492720063\n",
      "\n",
      "100 trees\n",
      "0.9441823430842345\n",
      "\n",
      "200 trees\n",
      "0.9451435213408956\n",
      "\n",
      "500 trees\n",
      "0.9460976722371575\n",
      "\n",
      "1000 trees\n",
      "0.9465070757349393\n",
      "\n",
      "2000 trees\n",
      "0.945943512796233\n",
      "\n"
     ]
    },
    {
     "data": {
      "image/png": "[encoded data removed]",
      "text/plain": [
       "<matplotlib.figure.Figure at 0x7f65a0673940>"
      ]
     },
     "metadata": {},
     "output_type": "display_data"
    }
   ],
   "source": [
    "results = []\n",
    "n_estimator_options = [30, 50, 100, 200, 500, 1000, 2000]\n",
    "\n",
    "for trees in n_estimator_options:\n",
    "    model = RandomForestRegressor(trees, oob_score=True, n_jobs=-1, random_state=0)\n",
    "    model.fit(X, y)\n",
    "    print (trees, \"trees\")\n",
    "    # roc = roc_auc_score(y, model.oob_prediction_)\n",
    "    # print (\"C-stat: \", roc)\n",
    "    print (model.score(X,y))\n",
    "    results.append(model.score(X,y))\n",
    "    print (\"\")\n",
    "    \n",
    "pd.Series(results, n_estimator_options).plot();"
   ]
  },
  {
   "cell_type": "markdown",
   "metadata": {},
   "source": [
    "# max_features"
   ]
  },
  {
   "cell_type": "code",
   "execution_count": 42,
   "metadata": {},
   "outputs": [
    {
     "name": "stdout",
     "output_type": "stream",
     "text": [
      "auto option\n",
      "0.9443460638079048\n",
      "\n",
      "None option\n",
      "0.9443460638079048\n",
      "\n",
      "sqrt option\n",
      "0.944141604749336\n",
      "\n",
      "log2 option\n",
      "0.944141604749336\n",
      "\n",
      "0.9 option\n",
      "0.9440838923052256\n",
      "\n",
      "0.2 option\n",
      "0.9433143938594819\n",
      "\n"
     ]
    },
    {
     "data": {
      "image/png": "[encoded data removed]",
      "text/plain": [
       "<matplotlib.figure.Figure at 0x7f6598e24940>"
      ]
     },
     "metadata": {},
     "output_type": "display_data"
    }
   ],
   "source": [
    "results = []\n",
    "max_features_options = [\"auto\", None, \"sqrt\", \"log2\", 0.9, 0.2]\n",
    "\n",
    "for max_features in max_features_options:\n",
    "    model = RandomForestRegressor(n_estimators=1000, oob_score=True, n_jobs=-1, random_state=42, max_features=max_features)\n",
    "    model.fit(X, y)\n",
    "    print (max_features, \"option\")\n",
    "    # roc = roc_auc_score(y, model.oob_prediction_)\n",
    "    # print (\"C-stat: \", roc)\n",
    "    print (model.score(X,y))\n",
    "    results.append(model.score(X,y))\n",
    "    print (\"\")\n",
    "    \n",
    "pd.Series(results, max_features_options).plot(kind=\"barh\", xlim=(.9,.98));\n"
   ]
  },
  {
   "cell_type": "markdown",
   "metadata": {},
   "source": [
    "# min_samples_leaf"
   ]
  },
  {
   "cell_type": "code",
   "execution_count": 41,
   "metadata": {},
   "outputs": [
    {
     "name": "stdout",
     "output_type": "stream",
     "text": [
      "1 min samples\n",
      "0.9443460638079048\n",
      "\n",
      "2 min samples\n",
      "0.9053028279910892\n",
      "\n",
      "3 min samples\n",
      "0.8608538709214706\n",
      "\n",
      "4 min samples\n",
      "0.8227156729610472\n",
      "\n",
      "5 min samples\n",
      "0.7961286532176685\n",
      "\n",
      "6 min samples\n",
      "0.772378966424643\n",
      "\n",
      "7 min samples\n",
      "0.7497694548810792\n",
      "\n",
      "8 min samples\n",
      "0.731392739514959\n",
      "\n",
      "9 min samples\n",
      "0.7140955768246163\n",
      "\n",
      "10 min samples\n",
      "0.697885297663434\n",
      "\n"
     ]
    },
    {
     "data": {
      "image/png": "[encoded data removed]",
      "text/plain": [
       "<matplotlib.figure.Figure at 0x7f65a0da9a20>"
      ]
     },
     "metadata": {},
     "output_type": "display_data"
    }
   ],
   "source": [
    "results = []\n",
    "min_samples_leaf_options = [1, 2, 3, 4, 5, 6, 7, 8, 9, 10]\n",
    "\n",
    "for min_samples in min_samples_leaf_options:\n",
    "    model = RandomForestRegressor(n_estimators=1000, \n",
    "                                  oob_score=True, \n",
    "                                  n_jobs=-1, \n",
    "                                  random_state=42, \n",
    "                                  max_features=\"auto\", \n",
    "                                  min_samples_leaf=min_samples)\n",
    "    model.fit(X, y)\n",
    "    print (min_samples, \"min samples\")\n",
    "    # roc = roc_auc_score(y, model.oob_prediction_)\n",
    "    # print (\"C-stat: \", roc)\n",
    "    print (model.score(X,y))\n",
    "    results.append(model.score(X,y))\n",
    "    print (\"\")\n",
    "    \n",
    "pd.Series(results, min_samples_leaf_options).plot();"
   ]
  },
  {
   "cell_type": "markdown",
   "metadata": {},
   "source": [
    "# Final Model"
   ]
  },
  {
   "cell_type": "code",
   "execution_count": 43,
   "metadata": {},
   "outputs": [
    {
     "name": "stdout",
     "output_type": "stream",
     "text": [
      "0.9465070757349393\n"
     ]
    }
   ],
   "source": [
    "model = RandomForestRegressor(n_estimators=1000, \n",
    "                              oob_score=True, \n",
    "                              n_jobs=-1, \n",
    "                              random_state=0, \n",
    "                              max_features=\"auto\", \n",
    "                              min_samples_leaf=1)\n",
    "model.fit(X, y)\n",
    "\n",
    "print (model.score(X,y))\n",
    "# roc = roc_auc_score(y, model.oob_prediction_)\n",
    "# print (\"C-stat: \", roc)"
   ]
  },
  {
   "cell_type": "code",
   "execution_count": 44,
   "metadata": {},
   "outputs": [],
   "source": [
    "# Make train and test datasets\n",
    "from sklearn.model_selection import train_test_split\n",
    "import numpy as np\n",
    "np.random.seed(100)\n",
    "X_train, X_test, y_train, y_test = train_test_split(X, y, test_size=.2)"
   ]
  },
  {
   "cell_type": "code",
   "execution_count": 45,
   "metadata": {},
   "outputs": [
    {
     "name": "stdout",
     "output_type": "stream",
     "text": [
      "R^2: 0.3\n"
     ]
    }
   ],
   "source": [
    "from sklearn.linear_model import LinearRegression\n",
    "model = LinearRegression()\n",
    "model.fit(X_train, y_train)\n",
    "print (\"R^2:\", model.score(X_test, y_test).round(2))"
   ]
  },
  {
   "cell_type": "code",
   "execution_count": 46,
   "metadata": {},
   "outputs": [
    {
     "name": "stdout",
     "output_type": "stream",
     "text": [
      "R^2: 0.43\n"
     ]
    }
   ],
   "source": [
    "from sklearn.tree import DecisionTreeRegressor\n",
    "model = DecisionTreeRegressor()\n",
    "model.fit(X_train, y_train)\n",
    "print (\"R^2:\", model.score(X_test, y_test).round(2))"
   ]
  },
  {
   "cell_type": "code",
   "execution_count": 47,
   "metadata": {},
   "outputs": [
    {
     "name": "stdout",
     "output_type": "stream",
     "text": [
      "R^2: 0.41\n"
     ]
    }
   ],
   "source": [
    "from sklearn.ensemble import RandomForestRegressor\n",
    "model = RandomForestRegressor(random_state=42)\n",
    "model.fit(X_train, y_train)\n",
    "print (\"R^2:\", model.score(X_test, y_test).round(2))"
   ]
  },
  {
   "cell_type": "code",
   "execution_count": 48,
   "metadata": {},
   "outputs": [],
   "source": [
    "data = pd.DataFrame({\"N_TOTAL\": y, \"Pred\": model.predict(X)})"
   ]
  },
  {
   "cell_type": "code",
   "execution_count": 49,
   "metadata": {},
   "outputs": [
    {
     "data": {
      "text/plain": [
       "<seaborn.axisgrid.JointGrid at 0x7f65a0a36d68>"
      ]
     },
     "execution_count": 49,
     "metadata": {},
     "output_type": "execute_result"
    },
    {
     "data": {
      "image/png": "[encoded data removed]",
      "text/plain": [
       "<matplotlib.figure.Figure at 0x7f65a0a36fd0>"
      ]
     },
     "metadata": {},
     "output_type": "display_data"
    }
   ],
   "source": [
    "import seaborn as sns\n",
    "sns.jointplot(\"N_TOTAL\", \"Pred\", data=data, kind=\"reg\")"
   ]
  },
  {
   "cell_type": "code",
   "execution_count": 50,
   "metadata": {},
   "outputs": [
    {
     "data": {
      "text/plain": [
       "array([-1.30702011, -0.49884663,  0.21314355, -1.09322944, -0.68512283])"
      ]
     },
     "execution_count": 50,
     "metadata": {},
     "output_type": "execute_result"
    }
   ],
   "source": [
    "from sklearn.model_selection import cross_val_score\n",
    "scores = cross_val_score(model, X, y, cv=5)\n",
    "scores  "
   ]
  },
  {
   "cell_type": "code",
   "execution_count": 51,
   "metadata": {},
   "outputs": [
    {
     "name": "stdout",
     "output_type": "stream",
     "text": [
      "Accuracy: -0.67 (+/- 1.06)\n"
     ]
    }
   ],
   "source": [
    "print(\"Accuracy: %0.2f (+/- %0.2f)\" % (scores.mean(), scores.std() * 2))"
   ]
  },
  {
   "cell_type": "code",
   "execution_count": 53,
   "metadata": {},
   "outputs": [
    {
     "data": {
      "image/png": "[encoded data removed]",
      "text/plain": [
       "<matplotlib.figure.Figure at 0x7f65981475c0>"
      ]
     },
     "metadata": {},
     "output_type": "display_data"
    }
   ],
   "source": [
    "from sklearn.tree import _tree, export_graphviz\n",
    "import matplotlib.pyplot as plt\n",
    "def leaf_depths(tree, node_id = 0):\n",
    "    \n",
    "    left_child = tree.children_left[node_id]\n",
    "    right_child = tree.children_right[node_id]\n",
    "\n",
    "    if left_child == _tree.TREE_LEAF:\n",
    "        \n",
    "        depths = np.array([0])\n",
    "\n",
    "    else:\n",
    "        \n",
    "        left_depths = leaf_depths(tree, left_child) + 1\n",
    "        right_depths = leaf_depths(tree, right_child) + 1\n",
    "\n",
    "        depths = np.append(left_depths, right_depths)\n",
    "\n",
    "    return depths\n",
    "\n",
    "def leaf_samples(tree, node_id = 0):\n",
    "    \n",
    "    left_child = tree.children_left[node_id]\n",
    "    right_child = tree.children_right[node_id]\n",
    "\n",
    "    if left_child == _tree.TREE_LEAF:\n",
    "        \n",
    "        samples = np.array([tree.n_node_samples[node_id]])\n",
    "\n",
    "    else:\n",
    "        \n",
    "        left_samples = leaf_samples(tree, left_child)\n",
    "        right_samples = leaf_samples(tree, right_child)\n",
    "\n",
    "        samples = np.append(left_samples, right_samples)\n",
    "\n",
    "    return samples\n",
    "\n",
    "def draw_tree(ensemble, tree_id=0):\n",
    "\n",
    "    plt.figure(figsize=(8,8))\n",
    "    plt.subplot(211)\n",
    "\n",
    "    tree = ensemble.estimators_[tree_id].tree_\n",
    "\n",
    "    depths = leaf_depths(tree)\n",
    "    plt.hist(depths, histtype='step', color='#9933ff', \n",
    "             bins=range(min(depths), max(depths)+1))\n",
    "\n",
    "    plt.xlabel(\"Depth of leaf nodes (tree %s)\" % tree_id)\n",
    "    \n",
    "    plt.subplot(212)\n",
    "    \n",
    "    samples = leaf_samples(tree)\n",
    "    plt.hist(samples, histtype='step', color='#3399ff', \n",
    "             bins=range(min(samples), max(samples)+1))\n",
    "    \n",
    "    plt.xlabel(\"Number of samples in leaf nodes (tree %s)\" % tree_id)\n",
    "    \n",
    "    plt.show()\n",
    "\n",
    "def draw_ensemble(ensemble):\n",
    "\n",
    "    plt.figure(figsize=(8,8))\n",
    "    plt.subplot(211)\n",
    "\n",
    "    depths_all = np.array([], dtype=int)\n",
    "\n",
    "    for x in ensemble.estimators_:\n",
    "        tree = x.tree_\n",
    "        depths = leaf_depths(tree)\n",
    "        depths_all = np.append(depths_all, depths)\n",
    "        plt.hist(depths, histtype='step', color='#ddaaff', \n",
    "                 bins=range(min(depths), max(depths)+1))\n",
    "\n",
    "    plt.hist(depths_all, histtype='step', color='#9933ff', \n",
    "             bins=range(min(depths_all), max(depths_all)+1), \n",
    "             weights=np.ones(len(depths_all))/len(ensemble.estimators_), \n",
    "             linewidth=2)\n",
    "    plt.xlabel(\"Depth of leaf nodes\")\n",
    "    \n",
    "    samples_all = np.array([], dtype=int)\n",
    "    \n",
    "    plt.subplot(212)\n",
    "    \n",
    "    for x in ensemble.estimators_:\n",
    "        tree = x.tree_\n",
    "        samples = leaf_samples(tree)\n",
    "        samples_all = np.append(samples_all, samples)\n",
    "        plt.hist(samples, histtype='step', color='#aaddff', \n",
    "                 bins=range(min(samples), max(samples)+1))\n",
    "    \n",
    "    plt.hist(samples_all, histtype='step', color='#3399ff', \n",
    "             bins=range(min(samples_all), max(samples_all)+1), \n",
    "             weights=np.ones(len(samples_all))/len(ensemble.estimators_), \n",
    "             linewidth=2)\n",
    "    plt.xlabel(\"Number of samples in leaf nodes\")\n",
    "    \n",
    "    plt.show()\n",
    "\n",
    "draw_ensemble(model)"
   ]
  },
  {
   "cell_type": "code",
   "execution_count": 54,
   "metadata": {},
   "outputs": [
    {
     "data": {
      "text/plain": [
       "DecisionTreeRegressor(criterion='mse', max_depth=None, max_features='auto',\n",
       "           max_leaf_nodes=None, min_impurity_decrease=0.0,\n",
       "           min_impurity_split=None, min_samples_leaf=1,\n",
       "           min_samples_split=2, min_weight_fraction_leaf=0.0,\n",
       "           presort=False, random_state=1608637542, splitter='best')"
      ]
     },
     "execution_count": 54,
     "metadata": {},
     "output_type": "execute_result"
    }
   ],
   "source": [
    "# model tree\n",
    "model.estimators_[0]"
   ]
  },
  {
   "cell_type": "code",
   "execution_count": 71,
   "metadata": {},
   "outputs": [
    {
     "name": "stderr",
     "output_type": "stream",
     "text": [
      "/home/jorge/anaconda3/lib/python3.5/site-packages/sklearn/tree/export.py:399: DeprecationWarning: out_file can be set to None starting from 0.18. This will be the default in 0.20.\n",
      "  DeprecationWarning)\n"
     ]
    },
    {
     "data": {
      "text/plain": [
       "0"
      ]
     },
     "execution_count": 71,
     "metadata": {},
     "output_type": "execute_result"
    }
   ],
   "source": [
    "from sklearn import tree\n",
    "from sklearn.tree import export_graphviz\n",
    "import os\n",
    "\n",
    "export_graphviz(model.estimators_[0],\n",
    "                feature_names=X.columns,\n",
    "                filled=True,\n",
    "                rounded=True)\n",
    "os.system('dot -Tpng tree.dot -o tree.png')"
   ]
  },
  {
   "cell_type": "code",
   "execution_count": null,
   "metadata": {},
   "outputs": [],
   "source": []
  }
 ],
 "metadata": {
  "kernelspec": {
   "display_name": "Python 3",
   "language": "python",
   "name": "python3"
  },
  "language_info": {
   "codemirror_mode": {
    "name": "ipython",
    "version": 3
   },
   "file_extension": ".py",
   "mimetype": "text/x-python",
   "name": "python",
   "nbconvert_exporter": "python",
   "pygments_lexer": "ipython3",
   "version": "3.5.4"
  }
 },
 "nbformat": 4,
 "nbformat_minor": 2
}
